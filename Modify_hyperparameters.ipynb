{
  "cells": [
    {
      "cell_type": "markdown",
      "metadata": {
        "id": "view-in-github",
        "colab_type": "text"
      },
      "source": [
        "<a href=\"https://colab.research.google.com/github/johoon-Choi/2022-1_AI_Study/blob/main/Modify_hyperparameters.ipynb\" target=\"_parent\"><img src=\"https://colab.research.google.com/assets/colab-badge.svg\" alt=\"Open In Colab\"/></a>"
      ]
    },
    {
      "cell_type": "markdown",
      "source": [
        "# HW2\n",
        "\n",
        "*   Submit result analysis report (within 6 pages, at least 3 pages, pdf format)\n",
        "*   **Analysis of experimental results by modifying hyperparameters**\n",
        "(e.g. epoch, learning rate, optimizer, activation function ..)\n",
        "*   **Analysis and discussion through various experiments** is more important than improving performance\n",
        "*   Active use of tables and graphs\n",
        "*   If necessary, attach a link to your colab code\n",
        "*   Code is based on ResNet-50\n",
        "\n",
        "\n",
        "\n",
        "\n",
        "\n",
        "\n"
      ],
      "metadata": {
        "id": "o-uBl7-zuUNa"
      }
    },
    {
      "cell_type": "markdown",
      "source": [
        "# 1.Install TensorFlow 2.1.0"
      ],
      "metadata": {
        "id": "cgc8jD09hGas"
      }
    },
    {
      "cell_type": "code",
      "source": [
        "# !pip uninstall tensorflow\n",
        "!pip install tensorflow==2.1.0"
      ],
      "metadata": {
        "id": "LkchjzXKO_5Q"
      },
      "execution_count": null,
      "outputs": []
    },
    {
      "cell_type": "code",
      "source": [
        "import tensorflow as tf\n",
        "tf.__version__"
      ],
      "metadata": {
        "colab": {
          "base_uri": "https://localhost:8080/",
          "height": 35
        },
        "id": "S4vW3uSZO5aV",
        "outputId": "0a887dee-97f0-4955-ed5a-e912d9d6704f"
      },
      "execution_count": 5,
      "outputs": [
        {
          "output_type": "execute_result",
          "data": {
            "text/plain": [
              "'2.1.0'"
            ],
            "application/vnd.google.colaboratory.intrinsic+json": {
              "type": "string"
            }
          },
          "metadata": {},
          "execution_count": 5
        }
      ]
    },
    {
      "cell_type": "markdown",
      "source": [
        "# 2.Runtime restart\n",
        "\n",
        "**런타임 -> 런타임 다시 시작 -> 다음 코드 진행**"
      ],
      "metadata": {
        "id": "PCe8FggEZimh"
      }
    },
    {
      "cell_type": "markdown",
      "source": [
        "# 3.Prepare dataset"
      ],
      "metadata": {
        "id": "z3JBDs8YhThj"
      }
    },
    {
      "cell_type": "code",
      "source": [
        "import tensorflow_datasets as tfds\n",
        "import tensorflow as tf\n",
        "\n",
        "#print(tfds.list_builders())\n",
        "dataset, info = tfds.load('fashion_mnist', as_supervised = True, with_info = True)\n",
        "dataset_test, dataset_train = dataset['test'], dataset['train']\n",
        "print(info)"
      ],
      "metadata": {
        "id": "9UuRZP_QPCQj"
      },
      "execution_count": null,
      "outputs": []
    },
    {
      "cell_type": "code",
      "source": [
        "def convert_types(image, label):\n",
        "    image = tf.cast(image, tf.float32)\n",
        "    image /= 255\n",
        "    return image, label\n",
        "\n",
        "batch_size = 128\n",
        "\n",
        "dataset_train = dataset_train.map(convert_types).shuffle(10000).batch(batch_size)\n",
        "dataset_test = dataset_test.map(convert_types).batch(batch_size)"
      ],
      "metadata": {
        "id": "4rGtwLm0PEE2"
      },
      "execution_count": null,
      "outputs": []
    },
    {
      "cell_type": "markdown",
      "source": [
        "# 4.Data Agumentation"
      ],
      "metadata": {
        "id": "JwIjNYfbhWpL"
      }
    },
    {
      "cell_type": "code",
      "source": [
        "from tensorflow.keras.preprocessing.image import ImageDataGenerator\n",
        "\n",
        "#datagen = ImageDataGenerator()\n",
        "datagen = ImageDataGenerator(rotation_range = 10, horizontal_flip = True, zoom_range = 0.1)\n"
      ],
      "metadata": {
        "id": "8sOFTmAaPFRx"
      },
      "execution_count": null,
      "outputs": []
    },
    {
      "cell_type": "markdown",
      "source": [
        "# 5.Define model"
      ],
      "metadata": {
        "id": "QCNx3jNmhYTh"
      }
    },
    {
      "cell_type": "code",
      "source": [
        "from tensorflow.keras.layers import Conv2D, Dense, BatchNormalization, Activation, MaxPool2D, GlobalAveragePooling2D, Add\n",
        "from tensorflow.keras import Model\n",
        "\n",
        "class ResidualBlock(Model):\n",
        "    def __init__(self, channel_in = 64, channel_out = 256):\n",
        "        super().__init__()\n",
        "        \n",
        "        channel = channel_out // 4\n",
        "        \n",
        "        self.conv1 = Conv2D(channel, kernel_size = (1, 1), padding = \"same\")\n",
        "        self.bn1 = BatchNormalization()\n",
        "        self.av1 = Activation(tf.nn.relu)\n",
        "        self.conv2 = Conv2D(channel, kernel_size = (3, 3), padding = \"same\")\n",
        "        self.bn2 = BatchNormalization()\n",
        "        self.av2 = Activation(tf.nn.relu)\n",
        "        self.conv3 = Conv2D(channel_out, kernel_size = (1, 1), padding = \"same\")\n",
        "        self.bn3 = BatchNormalization()\n",
        "        self.shortcut = self._shortcut(channel_in, channel_out)\n",
        "        self.add = Add()\n",
        "        self.av3 = Activation(tf.nn.relu)\n",
        "        \n",
        "    def call(self, x):\n",
        "        h = self.conv1(x)\n",
        "        h = self.bn1(h)\n",
        "        h = self.av1(h)\n",
        "        h = self.conv2(h)\n",
        "        h = self.bn2(h)\n",
        "        h = self.av2(h)\n",
        "        h = self.conv3(h)\n",
        "        h = self.bn3(h)\n",
        "        shortcut = self.shortcut(x)\n",
        "        h = self.add([h, shortcut])\n",
        "        y = self.av3(h)\n",
        "        return y\n",
        "    \n",
        "    def _shortcut(self, channel_in, channel_out):\n",
        "        if channel_in == channel_out:\n",
        "            return lambda x : x\n",
        "        else:\n",
        "            return self._projection(channel_out)\n",
        "        \n",
        "    def _projection(self, channel_out):\n",
        "        return Conv2D(channel_out, kernel_size = (1, 1), padding = \"same\")\n",
        "           \n",
        "class ResNet50(Model):\n",
        "    def __init__(self, input_shape, output_dim):\n",
        "        super().__init__()                \n",
        "        \n",
        "        self._layers = [\n",
        "            # conv1\n",
        "            Conv2D(64, input_shape = input_shape, kernel_size = (7, 7), strides=(2, 2), padding = \"same\"),\n",
        "            BatchNormalization(),\n",
        "            Activation(tf.nn.relu),\n",
        "            # conv2_x\n",
        "            MaxPool2D(pool_size = (3, 3), strides = (2, 2), padding = \"same\"),\n",
        "            ResidualBlock(64, 256),\n",
        "            [\n",
        "                ResidualBlock(256, 256) for _ in range(2)                \n",
        "            ],\n",
        "            # conv3_x\n",
        "            Conv2D(512, kernel_size = (1, 1), strides=(2, 2)),\n",
        "            [\n",
        "                ResidualBlock(512, 512) for _ in range(4)                \n",
        "            ],\n",
        "            # conv4_x\n",
        "            Conv2D(1024, kernel_size = (1, 1), strides=(2, 2)),\n",
        "            [\n",
        "                ResidualBlock(1024, 1024) for _ in range(6)                \n",
        "            ],\n",
        "            # conv5_x\n",
        "            Conv2D(2048, kernel_size = (1, 1), strides=(2, 2)),\n",
        "            [\n",
        "                ResidualBlock(2048, 2048) for _ in range(3)\n",
        "            ],\n",
        "            # last part\n",
        "            GlobalAveragePooling2D(),\n",
        "            Dense(1000, activation = tf.nn.relu),\n",
        "            Dense(output_dim, activation = tf.nn.softmax)\n",
        "        ]\n",
        "        \n",
        "    def call(self, x):\n",
        "        for layer in self._layers:\n",
        "            if isinstance(layer, list):\n",
        "                for l in layer:\n",
        "                    x = l(x)    \n",
        "            else:\n",
        "                x = layer(x)\n",
        "        return x\n",
        "       \n",
        "    \n",
        "model = ResNet50((28, 28, 1), 10)\n",
        "model.build(input_shape = (None, 28, 28, 1))\n",
        "model.summary()"
      ],
      "metadata": {
        "colab": {
          "base_uri": "https://localhost:8080/"
        },
        "id": "jWJUZukSPGX_",
        "outputId": "03d35056-fd00-4f19-d771-0d594e7dee2e"
      },
      "execution_count": null,
      "outputs": [
        {
          "output_type": "stream",
          "name": "stdout",
          "text": [
            "Model: \"res_net50\"\n",
            "_________________________________________________________________\n",
            "Layer (type)                 Output Shape              Param #   \n",
            "=================================================================\n",
            "conv2d (Conv2D)              multiple                  3200      \n",
            "_________________________________________________________________\n",
            "batch_normalization (BatchNo multiple                  256       \n",
            "_________________________________________________________________\n",
            "activation (Activation)      multiple                  0         \n",
            "_________________________________________________________________\n",
            "max_pooling2d (MaxPooling2D) multiple                  0         \n",
            "_________________________________________________________________\n",
            "residual_block (ResidualBloc multiple                  75904     \n",
            "_________________________________________________________________\n",
            "residual_block_1 (ResidualBl multiple                  71552     \n",
            "_________________________________________________________________\n",
            "residual_block_2 (ResidualBl multiple                  71552     \n",
            "_________________________________________________________________\n",
            "conv2d_11 (Conv2D)           multiple                  131584    \n",
            "_________________________________________________________________\n",
            "residual_block_3 (ResidualBl multiple                  282368    \n",
            "_________________________________________________________________\n",
            "residual_block_4 (ResidualBl multiple                  282368    \n",
            "_________________________________________________________________\n",
            "residual_block_5 (ResidualBl multiple                  282368    \n",
            "_________________________________________________________________\n",
            "residual_block_6 (ResidualBl multiple                  282368    \n",
            "_________________________________________________________________\n",
            "conv2d_24 (Conv2D)           multiple                  525312    \n",
            "_________________________________________________________________\n",
            "residual_block_7 (ResidualBl multiple                  1121792   \n",
            "_________________________________________________________________\n",
            "residual_block_8 (ResidualBl multiple                  1121792   \n",
            "_________________________________________________________________\n",
            "residual_block_9 (ResidualBl multiple                  1121792   \n",
            "_________________________________________________________________\n",
            "residual_block_10 (ResidualB multiple                  1121792   \n",
            "_________________________________________________________________\n",
            "residual_block_11 (ResidualB multiple                  1121792   \n",
            "_________________________________________________________________\n",
            "residual_block_12 (ResidualB multiple                  1121792   \n",
            "_________________________________________________________________\n",
            "conv2d_43 (Conv2D)           multiple                  2099200   \n",
            "_________________________________________________________________\n",
            "residual_block_13 (ResidualB multiple                  4471808   \n",
            "_________________________________________________________________\n",
            "residual_block_14 (ResidualB multiple                  4471808   \n",
            "_________________________________________________________________\n",
            "residual_block_15 (ResidualB multiple                  4471808   \n",
            "_________________________________________________________________\n",
            "global_average_pooling2d (Gl multiple                  0         \n",
            "_________________________________________________________________\n",
            "dense (Dense)                multiple                  2049000   \n",
            "_________________________________________________________________\n",
            "dense_1 (Dense)              multiple                  10010     \n",
            "=================================================================\n",
            "Total params: 26,313,218\n",
            "Trainable params: 26,267,778\n",
            "Non-trainable params: 45,440\n",
            "_________________________________________________________________\n"
          ]
        }
      ]
    },
    {
      "cell_type": "code",
      "source": [
        "loss_object = tf.keras.losses.SparseCategoricalCrossentropy()\n",
        "optimizer = tf.keras.optimizers.Adam()\n",
        "#optimizer = tf.keras.optimizers.SGD(learning_rate = 0.1, momentum = 0.9, decay =  0.0001)"
      ],
      "metadata": {
        "id": "Kq2-KWm1PIMB"
      },
      "execution_count": null,
      "outputs": []
    },
    {
      "cell_type": "markdown",
      "source": [
        "# 6.Prepare training"
      ],
      "metadata": {
        "id": "N5ngl-FfhbUd"
      }
    },
    {
      "cell_type": "code",
      "source": [
        "train_loss = tf.keras.metrics.Mean(name = 'train_loss')\n",
        "train_accuracy = tf.keras.metrics.SparseCategoricalAccuracy(name = 'train_accuracy')\n",
        "\n",
        "test_loss = tf.keras.metrics.Mean(name = 'test_loss')\n",
        "test_accuracy = tf.keras.metrics.SparseCategoricalAccuracy(name = 'test_accuracy')\n"
      ],
      "metadata": {
        "id": "TlxiC91MPJmz"
      },
      "execution_count": null,
      "outputs": []
    },
    {
      "cell_type": "code",
      "source": [
        "def train_step(image, label):\n",
        "    with tf.GradientTape() as tape:\n",
        "        predictions = model(image)\n",
        "        loss = loss_object(label, predictions)\n",
        "    gradients = tape.gradient(loss, model.trainable_variables)\n",
        "    optimizer.apply_gradients(zip(gradients, model.trainable_variables))\n",
        "    \n",
        "    train_loss(loss)\n",
        "    train_accuracy(label, predictions)\n",
        "        \n",
        "@tf.function\n",
        "def test_step(image, label):\n",
        "    predictions = model(image)\n",
        "    loss = loss_object(label, predictions)\n",
        "    \n",
        "    test_loss(loss)\n",
        "    test_accuracy(label, predictions)"
      ],
      "metadata": {
        "id": "mzY7PLXTPXdD"
      },
      "execution_count": null,
      "outputs": []
    },
    {
      "cell_type": "markdown",
      "source": [
        "# 7.Train"
      ],
      "metadata": {
        "id": "NLuFGAArhc9d"
      }
    },
    {
      "cell_type": "code",
      "source": [
        "import time\n",
        "\n",
        "num_epoch = 20\n",
        "start_time = time.time()\n",
        "\n",
        "train_accuracies = []\n",
        "test_accuracies = []\n",
        "\n",
        "for epoch in range(num_epoch):    \n",
        "    for image, label in dataset_train:\n",
        "        for _image, _label in datagen.flow(image, label, batch_size = batch_size):\n",
        "            train_step(_image, _label)\n",
        "            break\n",
        "        \n",
        "    for test_image, test_label in dataset_test:\n",
        "        test_step(test_image, test_label)\n",
        "        \n",
        "    train_accuracies.append(train_accuracy.result())\n",
        "    test_accuracies.append(test_accuracy.result())    \n",
        "    \n",
        "    template = 'Epoch {}, Loss: {}, Accuracy: {}, Test Loss: {}, Test Accuracy: {}, spent_time: {} min'\n",
        "    spent_time = time.time() - start_time\n",
        "    print(template.format(epoch + 1, train_loss.result(), train_accuracy.result() * 100, test_loss.result(), test_accuracy.result() * 100, spent_time / 60))"
      ],
      "metadata": {
        "colab": {
          "base_uri": "https://localhost:8080/"
        },
        "id": "xnct6_UjPZOU",
        "outputId": "029f8e01-67da-4ef0-cd75-8e95e1095470"
      },
      "execution_count": null,
      "outputs": [
        {
          "output_type": "stream",
          "name": "stdout",
          "text": [
            "Epoch 1, Loss: 0.8027722239494324, Accuracy: 68.73666381835938, Test Loss: 0.5834940671920776, Test Accuracy: 77.41000366210938, spent_time: 1.7949315746625265 min\n",
            "Epoch 2, Loss: 0.6433390974998474, Accuracy: 75.31916809082031, Test Loss: 0.511544406414032, Test Accuracy: 80.90499877929688, spent_time: 3.3264358003934222 min\n",
            "Epoch 3, Loss: 0.5729396343231201, Accuracy: 78.16888427734375, Test Loss: 0.46835964918136597, Test Accuracy: 82.663330078125, spent_time: 4.857724797725678 min\n",
            "Epoch 4, Loss: 0.5309425592422485, Accuracy: 79.83583068847656, Test Loss: 0.44435569643974304, Test Accuracy: 83.38999938964844, spent_time: 6.321133089065552 min\n",
            "Epoch 5, Loss: 0.5004022121429443, Accuracy: 81.07866668701172, Test Loss: 0.43000274896621704, Test Accuracy: 84.06800079345703, spent_time: 7.806657560666403 min\n",
            "Epoch 6, Loss: 0.4774526357650757, Accuracy: 81.96360778808594, Test Loss: 0.41680172085762024, Test Accuracy: 84.58000183105469, spent_time: 9.285963753859201 min\n",
            "Epoch 7, Loss: 0.4596136808395386, Accuracy: 82.64476013183594, Test Loss: 0.4121374487876892, Test Accuracy: 84.72999572753906, spent_time: 10.785041745503744 min\n",
            "Epoch 8, Loss: 0.4445670247077942, Accuracy: 83.23666381835938, Test Loss: 0.401157021522522, Test Accuracy: 85.18999481201172, spent_time: 12.242299473285675 min\n",
            "Epoch 9, Loss: 0.4314676821231842, Accuracy: 83.75, Test Loss: 0.3902294635772705, Test Accuracy: 85.63444519042969, spent_time: 13.679798285166422 min\n",
            "Epoch 10, Loss: 0.4199348986148834, Accuracy: 84.1971664428711, Test Loss: 0.3815024793148041, Test Accuracy: 85.91799926757812, spent_time: 15.151340369383494 min\n",
            "Epoch 11, Loss: 0.40984269976615906, Accuracy: 84.59226989746094, Test Loss: 0.3768051266670227, Test Accuracy: 86.17818450927734, spent_time: 16.62597107887268 min\n",
            "Epoch 12, Loss: 0.40105515718460083, Accuracy: 84.9343032836914, Test Loss: 0.37071484327316284, Test Accuracy: 86.46666717529297, spent_time: 18.063799953460695 min\n",
            "Epoch 13, Loss: 0.39315345883369446, Accuracy: 85.24846649169922, Test Loss: 0.36692214012145996, Test Accuracy: 86.63307189941406, spent_time: 19.5148091117541 min\n",
            "Epoch 14, Loss: 0.38605010509490967, Accuracy: 85.52381134033203, Test Loss: 0.3623168170452118, Test Accuracy: 86.83213806152344, spent_time: 20.958646249771117 min\n",
            "Epoch 15, Loss: 0.37947192788124084, Accuracy: 85.77044677734375, Test Loss: 0.3575960695743561, Test Accuracy: 87.02466583251953, spent_time: 22.383790151278177 min\n",
            "Epoch 16, Loss: 0.37327349185943604, Accuracy: 86.00958251953125, Test Loss: 0.35361742973327637, Test Accuracy: 87.1968765258789, spent_time: 23.81327803134918 min\n",
            "Epoch 17, Loss: 0.36761194467544556, Accuracy: 86.2314682006836, Test Loss: 0.3513449728488922, Test Accuracy: 87.30000305175781, spent_time: 25.240063913663228 min\n",
            "Epoch 18, Loss: 0.3625149726867676, Accuracy: 86.41342163085938, Test Loss: 0.34871405363082886, Test Accuracy: 87.4433364868164, spent_time: 26.68519694407781 min\n",
            "Epoch 19, Loss: 0.3576697111129761, Accuracy: 86.59789276123047, Test Loss: 0.34772390127182007, Test Accuracy: 87.5, spent_time: 28.121990156173705 min\n",
            "Epoch 20, Loss: 0.35356542468070984, Accuracy: 86.75650024414062, Test Loss: 0.34486520290374756, Test Accuracy: 87.63500213623047, spent_time: 29.556981480121614 min\n"
          ]
        }
      ]
    },
    {
      "cell_type": "markdown",
      "source": [
        "# 8.Show transition of accuracy"
      ],
      "metadata": {
        "id": "qnjefd4ihgXp"
      }
    },
    {
      "cell_type": "code",
      "source": [
        "import matplotlib.pyplot as plt\n",
        "\n",
        "plt.plot(train_accuracies, label = 'Train Accuracy')\n",
        "plt.plot(test_accuracies, linestyle = 'dashed', label = 'Test Accuracy')\n",
        "plt.legend()\n",
        "plt.show()                                                                                                                  "
      ],
      "metadata": {
        "colab": {
          "base_uri": "https://localhost:8080/",
          "height": 265
        },
        "id": "2J4dnBhqPak3",
        "outputId": "d3efb211-6806-4c87-fcc9-8aee564267e8"
      },
      "execution_count": null,
      "outputs": [
        {
          "output_type": "display_data",
          "data": {
            "text/plain": [
              "<Figure size 432x288 with 1 Axes>"
            ],
            "image/png": "[encoded data removed]"
          },
          "metadata": {
            "needs_background": "light"
          }
        }
      ]
    }
  ],
  "metadata": {
    "accelerator": "GPU",
    "colab": {
      "name": "Modify_hyperparameters.ipynb",
      "provenance": [],
      "collapsed_sections": [],
      "toc_visible": true,
      "include_colab_link": true
    },
    "kernelspec": {
      "display_name": "Python 3 (ipykernel)",
      "language": "python",
      "name": "python3"
    },
    "language_info": {
      "codemirror_mode": {
        "name": "ipython",
        "version": 3
      },
      "file_extension": ".py",
      "mimetype": "text/x-python",
      "name": "python",
      "nbconvert_exporter": "python",
      "pygments_lexer": "ipython3",
      "version": "3.7.3"
    }
  },
  "nbformat": 4,
  "nbformat_minor": 0
}