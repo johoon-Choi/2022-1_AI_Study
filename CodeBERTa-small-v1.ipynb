{
  "nbformat": 4,
  "nbformat_minor": 0,
  "metadata": {
    "colab": {
      "name": "INHA0501.ipynb",
      "provenance": [],
      "authorship_tag": "ABX9TyNS9AXNGKcM1MdoDojSwAuK",
      "include_colab_link": true
    },
    "kernelspec": {
      "name": "python3",
      "display_name": "Python 3"
    },
    "language_info": {
      "name": "python"
    }
  },
  "cells": [
    {
      "cell_type": "markdown",
      "metadata": {
        "id": "view-in-github",
        "colab_type": "text"
      },
      "source": [
        "<a href=\"https://colab.research.google.com/github/johoon-Choi/2022-1_AI_Study/blob/main/CodeBERTa-small-v1.ipynb\" target=\"_parent\"><img src=\"https://colab.research.google.com/assets/colab-badge.svg\" alt=\"Open In Colab\"/></a>"
      ]
    },
    {
      "cell_type": "markdown",
      "source": [
        "# 22.05.01\n",
        "# https://huggingface.co/huggingface/CodeBERTa-small-v1"
      ],
      "metadata": {
        "id": "HrilGpjzGTIY"
      }
    },
    {
      "cell_type": "code",
      "source": [
        "pip install transformers"
      ],
      "metadata": {
        "colab": {
          "base_uri": "https://localhost:8080/"
        },
        "id": "17jsdnQIGiVr",
        "outputId": "0f51d50d-0c53-460e-e29a-e6677c57d010"
      },
      "execution_count": 10,
      "outputs": [
        {
          "output_type": "stream",
          "name": "stdout",
          "text": [
            "Requirement already satisfied: transformers in /usr/local/lib/python3.7/dist-packages (4.18.0)\n",
            "Requirement already satisfied: sacremoses in /usr/local/lib/python3.7/dist-packages (from transformers) (0.0.49)\n",
            "Requirement already satisfied: tqdm>=4.27 in /usr/local/lib/python3.7/dist-packages (from transformers) (4.64.0)\n",
            "Requirement already satisfied: packaging>=20.0 in /usr/local/lib/python3.7/dist-packages (from transformers) (21.3)\n",
            "Requirement already satisfied: tokenizers!=0.11.3,<0.13,>=0.11.1 in /usr/local/lib/python3.7/dist-packages (from transformers) (0.12.1)\n",
            "Requirement already satisfied: pyyaml>=5.1 in /usr/local/lib/python3.7/dist-packages (from transformers) (6.0)\n",
            "Requirement already satisfied: filelock in /usr/local/lib/python3.7/dist-packages (from transformers) (3.6.0)\n",
            "Requirement already satisfied: numpy>=1.17 in /usr/local/lib/python3.7/dist-packages (from transformers) (1.21.6)\n",
            "Requirement already satisfied: importlib-metadata in /usr/local/lib/python3.7/dist-packages (from transformers) (4.11.3)\n",
            "Requirement already satisfied: regex!=2019.12.17 in /usr/local/lib/python3.7/dist-packages (from transformers) (2019.12.20)\n",
            "Requirement already satisfied: requests in /usr/local/lib/python3.7/dist-packages (from transformers) (2.23.0)\n",
            "Requirement already satisfied: huggingface-hub<1.0,>=0.1.0 in /usr/local/lib/python3.7/dist-packages (from transformers) (0.5.1)\n",
            "Requirement already satisfied: typing-extensions>=3.7.4.3 in /usr/local/lib/python3.7/dist-packages (from huggingface-hub<1.0,>=0.1.0->transformers) (4.2.0)\n",
            "Requirement already satisfied: pyparsing!=3.0.5,>=2.0.2 in /usr/local/lib/python3.7/dist-packages (from packaging>=20.0->transformers) (3.0.8)\n",
            "Requirement already satisfied: zipp>=0.5 in /usr/local/lib/python3.7/dist-packages (from importlib-metadata->transformers) (3.8.0)\n",
            "Requirement already satisfied: chardet<4,>=3.0.2 in /usr/local/lib/python3.7/dist-packages (from requests->transformers) (3.0.4)\n",
            "Requirement already satisfied: urllib3!=1.25.0,!=1.25.1,<1.26,>=1.21.1 in /usr/local/lib/python3.7/dist-packages (from requests->transformers) (1.24.3)\n",
            "Requirement already satisfied: idna<3,>=2.5 in /usr/local/lib/python3.7/dist-packages (from requests->transformers) (2.10)\n",
            "Requirement already satisfied: certifi>=2017.4.17 in /usr/local/lib/python3.7/dist-packages (from requests->transformers) (2021.10.8)\n",
            "Requirement already satisfied: click in /usr/local/lib/python3.7/dist-packages (from sacremoses->transformers) (7.1.2)\n",
            "Requirement already satisfied: six in /usr/local/lib/python3.7/dist-packages (from sacremoses->transformers) (1.15.0)\n",
            "Requirement already satisfied: joblib in /usr/local/lib/python3.7/dist-packages (from sacremoses->transformers) (1.1.0)\n"
          ]
        }
      ]
    },
    {
      "cell_type": "code",
      "source": [
        "PHP_CODE = \"\"\"\n",
        "public static <mask> set(string $key, $value) {\n",
        "    if (!in_array($key, self::$allowedKeys)) {\n",
        "        throw new \\InvalidArgumentException('Invalid key given');\n",
        "    }\n",
        "    self::$storedValues[$key] = $value;\n",
        "}\n",
        "\"\"\".lstrip()"
      ],
      "metadata": {
        "id": "WSVW37QuGks7"
      },
      "execution_count": 11,
      "outputs": []
    },
    {
      "cell_type": "code",
      "source": [
        "from transformers import pipeline\n",
        "\n",
        "fill_mask = pipeline(\n",
        "    \"fill-mask\",\n",
        "    model=\"huggingface/CodeBERTa-small-v1\",\n",
        "    tokenizer=\"huggingface/CodeBERTa-small-v1\"\n",
        ")\n",
        "\n",
        "fill_mask(PHP_CODE)\n",
        "\n",
        "## Top 5 predictions:\n",
        "# \n",
        "' function' # prob 0.9999827146530151\n",
        "'function'  # \n",
        "' void'     # \n",
        "' def'      # \n",
        "' final'    # "
      ],
      "metadata": {
        "colab": {
          "base_uri": "https://localhost:8080/",
          "height": 36
        },
        "id": "2sZRCYyeGpnk",
        "outputId": "9b689551-d440-41a2-8b24-6693bd3a6d6c"
      },
      "execution_count": 12,
      "outputs": [
        {
          "output_type": "execute_result",
          "data": {
            "text/plain": [
              "' final'"
            ],
            "application/vnd.google.colaboratory.intrinsic+json": {
              "type": "string"
            }
          },
          "metadata": {},
          "execution_count": 12
        }
      ]
    },
    {
      "cell_type": "code",
      "source": [
        "PYTHON_CODE = \"\"\"\n",
        "def pipeline(\n",
        "    task: str,\n",
        "    model: Optional = None,\n",
        "    framework: Optional[<mask>] = None,\n",
        "    **kwargs\n",
        ") -> Pipeline:\n",
        "    pass\n",
        "\"\"\".lstrip()"
      ],
      "metadata": {
        "id": "vQIkLd_QGr9T"
      },
      "execution_count": 13,
      "outputs": []
    },
    {
      "cell_type": "code",
      "source": [
        "fill_mask(\"My name is <mask>.\")\n",
        "\n",
        "# {'sequence': '<s> My name is undefined.</s>', 'score': 0.2548016905784607, 'token': 3353}\n",
        "# {'sequence': '<s> My name is required.</s>', 'score': 0.07290805131196976, 'token': 2371}\n",
        "# {'sequence': '<s> My name is null.</s>', 'score': 0.06323737651109695, 'token': 469}\n",
        "# {'sequence': '<s> My name is name.</s>', 'score': 0.021919190883636475, 'token': 652}\n",
        "# {'sequence': '<s> My name is disabled.</s>', 'score': 0.019681859761476517, 'token': 7434}"
      ],
      "metadata": {
        "colab": {
          "base_uri": "https://localhost:8080/"
        },
        "id": "Rj1iwSiSGt8Z",
        "outputId": "a8ca6e3e-7aea-4a6e-9b57-9675aab1ae4e"
      },
      "execution_count": 14,
      "outputs": [
        {
          "output_type": "execute_result",
          "data": {
            "text/plain": [
              "[{'score': 0.17132754623889923,\n",
              "  'sequence': 'My name is undefined.',\n",
              "  'token': 3353,\n",
              "  'token_str': ' undefined'},\n",
              " {'score': 0.1452704668045044,\n",
              "  'sequence': 'My name is null.',\n",
              "  'token': 469,\n",
              "  'token_str': ' null'},\n",
              " {'score': 0.08401013165712357,\n",
              "  'sequence': 'My name is required.',\n",
              "  'token': 2371,\n",
              "  'token_str': ' required'},\n",
              " {'score': 0.02005748637020588,\n",
              "  'sequence': 'My name is disabled.',\n",
              "  'token': 7434,\n",
              "  'token_str': ' disabled'},\n",
              " {'score': 0.019336411729454994,\n",
              "  'sequence': 'My name is a.',\n",
              "  'token': 349,\n",
              "  'token_str': ' a'}]"
            ]
          },
          "metadata": {},
          "execution_count": 14
        }
      ]
    }
  ]
}